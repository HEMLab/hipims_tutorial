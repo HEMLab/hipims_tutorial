{
 "cells": [
  {
   "cell_type": "markdown",
   "metadata": {},
   "source": [
    "# Welcom to HiPIMS!"
   ]
  },
  {
   "cell_type": "markdown",
   "metadata": {},
   "source": [
    "\n",
    "This document gives you a guidance and embeds the code to run the hipims code for case study.\n",
    "You can run this tutorial in a couple of ways:\n",
    "\n",
    "**In the cloud:** This is an easy way to get started! Run in Google Colab link, which opens an integrated notebook in Google Colab, with the code in a fully-hosted environment.\n",
    "\n",
    "**Locally:** This option requires you to setup HiPIMS first on your local machine (installation instructions). Download the notebook or copy the code into your favorite IDE."
   ]
  },
  {
   "cell_type": "markdown",
   "metadata": {},
   "source": [
    "## About\n",
    "HiPIMS names for High-Performance Integrated hydrodynamic Modelling System. It uses state-of-art numerical schemes (Godunov-type finite volume) to solve the 2D shallow water equations for flood simulations. To support high-resolution flood simulations, HiPIMS is implemented on multiple GPUs (Graphics Processing Unit) using CUDA/C++ languages to achieve high-performance computing. To find out how to use the model, please see the wiki."
   ]
  },
  {
   "cell_type": "markdown",
   "metadata": {},
   "source": [
    "## 1. Install and import the package "
   ]
  },
  {
   "cell_type": "code",
   "execution_count": null,
   "metadata": {},
   "outputs": [],
   "source": [
    "!pip install hipims2"
   ]
  },
  {
   "cell_type": "code",
   "execution_count": 7,
   "metadata": {},
   "outputs": [],
   "source": [
    "from hipims.InputHipims import InputHipims\n",
    "from hipims import flood"
   ]
  },
  {
   "cell_type": "markdown",
   "metadata": {},
   "source": [
    "## 2. Data Formats and Types\n",
    "To run the flood model, you need to prepare specific data types. Below are the minimum required data and additional **data types** that can enhance your simulations.\n",
    "\n",
    "1. **Spatial Distribution Data (SDD)**:  \n",
    "   These data describe spatial patterns and variations across different locations. The supported formats include:  \n",
    "   - **Single Value**: Represents a uniform value across the entire spatial domain, used when the phenomenon is consistent across all locations.\n",
    "   - **`np.array` (NumPy Array)**: Allows users to input customised values as an array to represent spatial data.  \n",
    "     *Note: The shape of the `np.array` must match the shape of the DEM to maintain spatial consistency.*\n",
    "   - **`tif` (GeoTIFF) File**: A raster data format that includes geographic coordinate information, allowing for detailed spatial modelling.  \n",
    "     *Note: The grid size of the GeoTIFF file must match that of the DEM.*\n",
    "\n",
    "2. **Time Series Data (TSD)**:  \n",
    "   These data represent temporal dynamics and support the following formats:  \n",
    "   - **Single Value**: Represents a uniform value across the entire time period, implying no variation over time.\n",
    "   - **`np.array` (NumPy Array)**: Allows users to input customised time series data. The first column represents the time series (unit: seconds), and the subsequent columns contain the corresponding values.\n",
    "   - **File**: Time series data can be stored in a file, such as a `.txt` or `Excel file`.  \n",
    "     *Note: If the data are on a specific sheet in an Excel file, use the format `['filename', 'sheetname']`. Otherwise, use `'filename'`.*"
   ]
  },
  {
   "cell_type": "markdown",
   "metadata": {},
   "source": [
    "## 3. Running HiPIMS for Catchment Case Study\n",
    "3.1 & 3.9 are necessary. \n",
    "\n",
    "3.2-3.8 are optional, call only differ from default.\n",
    "\n",
    "*Note: SDD refers to Spatial Distribution Data; TSD refers to Time Series Data.*\n"
   ]
  },
  {
   "cell_type": "markdown",
   "metadata": {},
   "source": [
    "### 3.1 Quickstart\n",
    "\n",
    "To define the model case, use the following:\n",
    "\n",
    "- **Data Requirements**:\n",
    "  - `DEM.tif` : Digital Elevation Model (DEM), providing terrain elevation data necessary for calculating water flow paths.\n",
    "\n",
    "- **Function**: `InputHipims`\n",
    "\n",
    "  **Keyword Arguments**:\n",
    "\n",
    "<div align=\"center\">\n",
    "\n",
    "| Argument           | Type    | Description                                                               |\n",
    "|--------------------|---------|---------------------------------------------------------------------------|\n",
    "| `case_folder`      | String  | Path to the folder containing the case files.                              |\n",
    "| `dem_path`         | String  | Path to the Digital Elevation Model (DEM) file, providing terrain data.    |\n",
    "| `output_folder`    | String  | Path to the folder where the simulation output files will be saved.        |\n",
    "| `rainfall_source`  | TSD     | Source of the rainfall data.                                               |\n",
    "\n",
    "</div>\n"
   ]
  },
  {
   "cell_type": "code",
   "execution_count": 5,
   "metadata": {},
   "outputs": [],
   "source": [
    "# minimal requirements\n",
    "case_folder = 'HiPIMS_2024/sample'\n",
    "dem_path = 'DEM.tif'\n",
    "output_folder = 'output'\n",
    "rainfall_source = 0\n",
    "\n",
    "inputs = InputHipims(case_folder = case_folder,\n",
    "                     dem_path = dem_path,\n",
    "                     output_folder= output_folder,\n",
    "                     rainfall_source = rainfall_source)"
   ]
  },
  {
   "cell_type": "markdown",
   "metadata": {},
   "source": [
    "### 3.2. Set Up Model Parameters\n",
    "\n",
    "Define the model parameters to control the simulation's configuration. \n",
    "\n",
    "- **Function**: `set_model_parameters`\n",
    "\n",
    "  **Keyword Arguments**:\n",
    "\n",
    "<div align=\"center\">\n",
    "\n",
    "| Argument              | Type     | Default  | Description                                                            |\n",
    "|-----------------------|----------|----------|------------------------------------------------------------------------|\n",
    "| `num_GPU`             | Integer  | `1`      | Number of GPU devices to use.                                          |\n",
    "| `start_time`          | Numeric  | `0`      | Simulation start time in seconds.                                      |\n",
    "| `GPU_device_ID`       | Integer  | `0`      | ID of the GPU device.                                                  |\n",
    "| `end_time`            | Numeric  | `3600`   | Total simulation time in seconds.                                      |\n",
    "| `output_interval`     | Numeric  | `600`    | Specifies how frequently (in seconds) the output files are saved.      |\n",
    "| `second_order`        | Boolean  | `False`  | Specifies whether to use a second-order solver.                        |\n",
    "| `projected_coordinate`| Boolean  | `False`  | Indicates whether the geographic coordinate is in a projected coordinate system.                        |\n",
    "\n",
    "</div>\n"
   ]
  },
  {
   "cell_type": "code",
   "execution_count": 39,
   "metadata": {
    "tags": []
   },
   "outputs": [],
   "source": [
    "inputs.set_model_parameters(end_time=12000)"
   ]
  },
  {
   "cell_type": "markdown",
   "metadata": {},
   "source": [
    "### 3.3 Set Initial Condition\n",
    "\n",
    "Define the initial conditions for the simulation. By default, the simulation area is considered completely dry.\n",
    "- **Function**: `set_initial_condition`\n",
    "\n",
    "  **Keyword Arguments:**\n",
    "\n",
    "<div align=\"center\">\n",
    "\n",
    "| Argument     | Type  | Unit       | Default | Description                                |\n",
    "|--------------|-------|------------|---------|--------------------------------------------|\n",
    "| `h0`         | SPD   | Metres (m) | `0`     | Initial water depth.                       |\n",
    "| `hU0x`       | SPD   | Metres (m) | `0`     | Initial unit discharge in the x-direction. |\n",
    "| `hU0`        | SPD   | Metres (m) | `0`     | Initial unit discharge in the y-direction. |\n",
    "\n",
    "</div>\n",
    "\n"
   ]
  },
  {
   "cell_type": "code",
   "execution_count": 4,
   "metadata": {},
   "outputs": [],
   "source": [
    "inputs.set_initial_condition(h0='depth.tif',\n",
    "                              hU0x='hux.tif',\n",
    "                              hU0y='huy.tif')"
   ]
  },
  {
   "cell_type": "markdown",
   "metadata": {},
   "source": [
    "### 3.4. Set Rainfall\n",
    "Define the rainfall data for the simulation. By default, there is no rainfall.\n",
    "\n",
    "- **Function**: `set_rainfall`\n",
    "\n",
    "  **Keyword Arguments:**\n",
    "\n",
    "<div align=\"center\">\n",
    "\n",
    "| Argument      | Type                             | Unit                     | Default | Description                                                                                           |\n",
    "|---------------|----------------------------------|--------------------------|---------|-------------------------------------------------------------------------------------------------------|\n",
    "| `rain_mask`   | SPD   | N/A     | `0`     | A mask that defines the rainfall station indices. indices.                                                     |\n",
    "| `rain_source` | TSD   | mm/hr   | `0`     | The source of rainfall data. The first column represents time, and the subsequent columns correspond to the indices in `rain_mask`, starting from 0. |\n",
    "\n",
    "</div>\n"
   ]
  },
  {
   "cell_type": "code",
   "execution_count": 5,
   "metadata": {},
   "outputs": [],
   "source": [
    "inputs.set_rainfall(rain_mask=0,rain_source='rainfall_source.xlsx')"
   ]
  },
  {
   "cell_type": "markdown",
   "metadata": {},
   "source": [
    "### 3.5. Set Boundary Condition and Show Domain Map\n",
    "\n",
    "Define the Input/Output (IO) boundaries at the edges of the model domain. These boundaries typically represent river inflow from upstream or river water depth/tidal levels downstream.\n",
    "\n",
    "- **Function**: `set_boundary_condition`\n",
    "\n",
    "  **Keyword Arguments:**\n",
    "\n",
    "| Argument           | Type                   | Description                                                                                                    |\n",
    "|--------------------|------------------------|----------------------------------------------------------------------------------------------------------------|\n",
    "| `bound_list`       | List of dictionaries   | A list where each dictionary represents a boundary condition for the model.                                    |\n",
    "| - `extent`         | Array                  | Specifies the boundary's spatial extent using minimum and maximum X and Y coordinates in the format `[x_min, x_max, y_min, y_max]`. |\n",
    "| - `type`           | String                 | Defines the type of boundary condition (see **Boundary Condition Types** below for details).                   |\n",
    "| - `source`         | TSD / None             | Specifies the source of data for the boundary condition. (see **Boundary Condition Types** below for details). |\n",
    "| `outline_boundary` | String                 | Specifies the condition applied to the model's outer boundary.                                                 |\n",
    "\n",
    "- **Boundary Condition Types**\n",
    "\n",
    "  The following types of boundary conditions are available:\n",
    "\n",
    "<div align=\"center\">\n",
    "\n",
    "| Boundary Type   | Description                                                                 | Source | Unit                        |\n",
    "|-----------------|-----------------------------------------------------------------------------|--------------------------------------|------------------------------|\n",
    "| `RIGID`         | A solid, non-movable boundary.                                               | None | N/A                          |\n",
    "| `WALL_SLIP`     | Allows slip conditions along a wall boundary.                                | None | N/A                          |\n",
    "| `OPEN`          | An open boundary where flow can freely enter or exit.                        | None  | N/A                          |\n",
    "| `H_GIVEN`       | A boundary with a specified water depth.                                     | TSD          | m                |\n",
    "| `Q_GIVEN`       | A boundary with a specified flow discharge.                                  | TSD| m³/s|\n",
    "| `WL_GIVEN`      | A boundary with a specified water level.                                     | TSD| m               |\n",
    "| `FALL`          | A specific condition, such as a falling water level.                         | None           | N/A |\n",
    "\n",
    "</div>"
   ]
  },
  {
   "cell_type": "code",
   "execution_count": 6,
   "metadata": {
    "tags": []
   },
   "outputs": [],
   "source": [
    "boundary1 = {'extent': [339593, 339629, 554243, 554266],\n",
    "             'type': 'Q_GIVEN', \n",
    "             'source': ['Q_source.xlsx', 'Cummersdale']}\n",
    "boundary2 = {'extent': [346948, 347033, 554233, 554272],\n",
    "             'type': 'Q_GIVEN', \n",
    "             'source': ['Q_source.xlsx', 'Great Corby']}\n",
    "boundary3 = {'extent': [349002, 349030, 558367, 558424],\n",
    "             'type': 'Q_GIVEN', \n",
    "             'source': ['Q_source.xlsx', 'Green Holme']}\n",
    "boundary4 = {'extent': [341185, 341242, 554236, 554558],\n",
    "             'type': 'Q_GIVEN', \n",
    "             'source': ['Q_source.xlsx', 'Harraby Green Business Park']}\n",
    "bound_list = [boundary1, boundary2, boundary3, boundary4]\n",
    "\n",
    "inputs.set_boundary_condition(bound_list=bound_list,\n",
    "                              outline_boundary = 'OPEN')"
   ]
  },
  {
   "cell_type": "markdown",
   "metadata": {},
   "source": [
    "### 3.6. Land Cover and Related Processes\n",
    "Land cover types, such as forests, urban areas, or fields, affect the speed and volume of surface water flow by influencing processes like surface friction, infiltration, and sewer drainage."
   ]
  },
  {
   "cell_type": "markdown",
   "metadata": {},
   "source": [
    "#### 3.6.1 Defining Land Cover\n",
    "Define the land cover data for the simulation to represent different types of land use within the case domain.\n",
    "\n",
    "- **Function**: `set_landuse` \n",
    "\n",
    "    **Keyword Argument:**\n",
    "\n",
    "<div align=\"center\">\n",
    "\n",
    "| Argument        | Type                             | Default | Description                                                |\n",
    "|-----------------|----------------------------------|---------|------------------------------------------------------------|\n",
    "| `landuse_mask`  | SPD (Spatial Distribution Data)  | `0`     | Indexes the land use distribution within the case domain.   |\n",
    "\n",
    "</div>"
   ]
  },
  {
   "cell_type": "code",
   "execution_count": 7,
   "metadata": {},
   "outputs": [],
   "source": [
    "inputs.set_landuse(landuse_mask='Landcover.tif')"
   ]
  },
  {
   "cell_type": "markdown",
   "metadata": {},
   "source": [
    "#### 3.6.2 Common Data Formats for Land Cover-Based Parameters\n",
    "All land cover-based parameters share the following data formats:\n",
    "- **Single Value**:  A numeric value applied for all land use categories.\n",
    "- **`np.array` (NumPy Array)**: An array of numeric values corresponding to the land use categories defined in the `landuse_mask`. The values should be ordered from the smallest to the largest land use indices.\n",
    "- **List**:  A list format that allows for custom settings:\n",
    "   - **`'default_value'`**: The default parameter value for all land use categories unless specified otherwise.\n",
    "   - **`'special_land_type_value'`**: The index of a specific land use category requiring a different parameter value.\n",
    "   - **`'special_param_value'`**: The value corresponding to the `special_land_type_value` for the specified parameter."
   ]
  },
  {
   "cell_type": "markdown",
   "metadata": {},
   "source": [
    "#### 3.6.3 Friction\n",
    "Friction in hydrodynamic modelling refers to the resistance water encounters as it flows over different surfaces, such as riverbeds, floodplains, or urban landscapes. This resistance is primarily influenced by the roughness of the surface, which slows down the water and dissipates its energy.\n",
    "\n",
    "- **Function**: `set_manning` \n",
    "\n",
    "    **Keyword Argument:**\n",
    "\n",
    "<div align=\"center\">\n",
    "\n",
    "| Argument        | Type                             | Default | Description                                                |\n",
    "|-----------------|----------------------------------|---------|------------------------------------------------------------|\n",
    "| `manning`  | Land Cover-Based Parameters  | `0`     | The roughness coefficient. Higher values represent rougher surfaces, slowing down water flow.  |\n",
    "\n",
    "</div>\n"
   ]
  },
  {
   "cell_type": "code",
   "execution_count": 8,
   "metadata": {},
   "outputs": [],
   "source": [
    "inputs.set_manning(manning={'default_value': 0.035,\n",
    "                            'special_land_type_value': [1],\n",
    "                            'special_param_value': [0.03]})"
   ]
  },
  {
   "cell_type": "markdown",
   "metadata": {},
   "source": [
    "#### 3.6.4 Infiltration\n",
    "\n",
    "Infiltration is the process by which water on the ground surface enters the soil. In HiPIMS, the [**Green-Ampt model**](https://en.wikipedia.org/wiki/Green%E2%80%93Ampt_model) is used to calculate the amount of water that infiltrates into the soil over time.\n",
    "\n",
    "There are two methods for setting up infiltration. \n",
    "\n",
    "***!!! Run one of the following methods depending on your own case:***\n"
   ]
  },
  {
   "cell_type": "markdown",
   "metadata": {},
   "source": [
    "\n",
    "##### Method 1: Manual Parameter Setting\n",
    "Directly assign specific values for each parameter based on different land cover types.\n",
    "\n",
    "- **Function**: `set_infiltration`\n",
    "\n",
    "**Keyword Arguments:**\n",
    "\n",
    "<div align=\"center\">\n",
    "\n",
    "| Argument                 | Type                         | Default | Description                                                                 |\n",
    "|--------------------------|------------------------------|---------|-----------------------------------------------------------------------------|\n",
    "| `cumulative_depth`       | Land Cover-Based Parameters  | `0`     | Cumulative infiltration depth since the start of the simulation (m).         |\n",
    "| `hydraulic_conductivity` | Land Cover-Based Parameters  | `0`     | The rate at which water moves through the soil, depending on soil properties (m/s). |\n",
    "| `capillary_head`         | Land Cover-Based Parameters  | `0`     | Soil suction at the wetting front, affecting water infiltration (m).         |\n",
    "| `water_content_diff`     | Land Cover-Based Parameters  | `0`     | Difference in water content between saturated and initial conditions (m³/m³). |\n",
    "\n",
    "</div>"
   ]
  },
  {
   "cell_type": "code",
   "execution_count": 17,
   "metadata": {},
   "outputs": [],
   "source": [
    "inputs.set_infiltration(cumulative_depth=0)"
   ]
  },
  {
   "cell_type": "markdown",
   "metadata": {},
   "source": [
    "\n",
    "##### Method 2: Automatic Parameter Setting by Soil Type\n",
    "Automatically determine parameter values based on the soil type associated with each land cover type.\n",
    "\n",
    "Soil types are based on the USDA Soil Classification: Clay, Silty Clay, Sandy Clay, Clay Loam, Silty Clay Loam, Sandy Clay Loam, Silt Loam, Loam, Sandy Loam, Loamy Sand, Sand, Impervious Surface, Water.\n",
    "\n",
    "- **Function**: `set_soil_type`\n",
    "\n",
    "    **Keyword Arguments:**\n",
    "\n",
    "<div align=\"center\">\n",
    "\n",
    "| Argument | Format | Description |\n",
    "|----------|--------|-------------|\n",
    "| `soil_type`   | List | Specifies the soil type settings for different land use categories.     |\n",
    "| - `default_soil_type` | String | Default soil type for all land use categories unless specified otherwise. |\n",
    "| - `special_land_type_value` | list of values / None | Index of a specific land use category requiring a different soil type.|\n",
    "| - `special_soil_type` | list of string / None | The soil type corresponding to the `special_land_type_value`.|\n",
    "</div>\n",
    "\n"
   ]
  },
  {
   "cell_type": "code",
   "execution_count": 19,
   "metadata": {},
   "outputs": [],
   "source": [
    "inputs.set_soil_type(soil_type={'default_soil_type': 'Clay',\n",
    "                                'special_land_type_value': [1],\n",
    "                                'special_soil_type': ['Water']})"
   ]
  },
  {
   "cell_type": "markdown",
   "metadata": {},
   "source": [
    "#### 3.6.5 Sewer System\n",
    "By defining areas in the model that drain water into the sewer system, users can simulate how water is removed from specific land cover types, such as roads, at a controlled rate.\n",
    "\n",
    "- **Function**: `set_sewer_sink`\n",
    "\n",
    "    **Keyword Arguments:**\n",
    "\n",
    "<div align=\"center\">\n",
    "\n",
    "| Argument     | Type                        | Default | Description                                                               |\n",
    "|--------------|-----------------------------|---------|---------------------------------------------------------------------------|\n",
    "| `sewer_sink` | Land Cover-Based Parameters | `0`     | Specifies the rate at which water is drained into the sewer system (m/s). |\n",
    "\n",
    "</div>\n"
   ]
  },
  {
   "cell_type": "code",
   "execution_count": 10,
   "metadata": {},
   "outputs": [],
   "source": [
    "inputs.set_sewer_sink(sewer_rate=0)"
   ]
  },
  {
   "cell_type": "markdown",
   "metadata": {},
   "source": [
    "### 3.7 Set river gauges\n",
    "Set gauges with the river channel to monitor timeseries of water level and velocity"
   ]
  },
  {
   "cell_type": "code",
   "execution_count": 11,
   "metadata": {
    "tags": []
   },
   "outputs": [],
   "source": [
    "gauge_coords = np.array([[340194, 556641], [342892, 557903]])\n",
    "inputs.set_gauges_position(gauge_coords)"
   ]
  },
  {
   "cell_type": "markdown",
   "metadata": {},
   "source": [
    "### 3.8. Check your data before running"
   ]
  },
  {
   "cell_type": "code",
   "execution_count": 6,
   "metadata": {},
   "outputs": [
    {
     "name": "stdout",
     "output_type": "stream",
     "text": [
      "---------------------- Model information ---------------------\n",
      "* To change paramaeters, use the 'set_model_parameters' function. For details, visit http_path\n",
      "case_folder : /home/lunet/cvxt2/HiPIMS_2024/sample\n",
      "num_GPU : 1\n",
      "GPU_device_ID : 0\n",
      "total_simulation_time : 3600\n",
      "output_interval : 600\n",
      "num_gauges : 0\n",
      "projected_coordinate : False\n",
      "dem_path : /home/lunet/cvxt2/HiPIMS_2024/sample/input/DEM.tif\n",
      "\n",
      "\n",
      "---------------------- Initial condition ---------------------\n",
      "* To change paramaeters, use the 'set_initial_condition' function. For details, visit http_path\n",
      "h0 : 0\n",
      "hU0x : 0\n",
      "hU0y : 0\n",
      "\n",
      "\n",
      "---------------------- Boundary condition ---------------------\n",
      "* To change paramaeters, use the 'set_boundary_condition' function. For details, visit http_path\n",
      "num_boundary : 0\n",
      "bound_list : None\n",
      "outline_boundary : FALL\n",
      "source_path : None\n",
      "\n",
      "\n",
      "---------------------- Rainfall ---------------------\n",
      "* To change paramaeters, use the 'set_rainfall' function. For details, visit http_path\n",
      "rain_mask : 0\n",
      "rain_source : 0\n",
      "\n",
      "\n",
      "---------------------- Land use ---------------------\n",
      "* To change paramaeters, use the 'set_landuse' function. For details, visit http_path\n",
      "landuse : 0\n",
      "\n",
      "\n",
      "---------------------- Friction parameter ---------------------\n",
      "* To change paramaeters, use the 'set_manning' function. For details, visit http_path\n",
      "manning : 0\n",
      "\n",
      "\n",
      "---------------------- Sewer_sink ---------------------\n",
      "* To change paramaeters, use the 'set_sewer_sink' function. For details, visit http_path\n",
      "sewer_sink : 0\n",
      "\n",
      "\n",
      "---------------------- Infiltration parameters ---------------------\n",
      "* To change paramaeters, use the 'set_inflitration' function. For details, visit http_path\n",
      "cumulative_depth : 0\n",
      "hydraulic_conductivity : 0\n",
      "capillary_head : 0\n",
      "water_content_diff : 0\n",
      "\n",
      "\n",
      "InputHipims object created on 2024-09-04 09:16:24\n"
     ]
    }
   ],
   "source": [
    "print(inputs)"
   ]
  },
  {
   "cell_type": "markdown",
   "metadata": {},
   "source": [
    "### 3.9 Run flood model"
   ]
  },
  {
   "cell_type": "code",
   "execution_count": 20,
   "metadata": {
    "tags": []
   },
   "outputs": [
    {
     "name": "stdout",
     "output_type": "stream",
     "text": [
     ]
    }
   ],
   "source": [
    "flood.run(inputs)"
   ]
  }
 ],
 "metadata": {
  "kernelspec": {
   "display_name": "Python 3 (ipykernel)",
   "language": "python",
   "name": "python3"
  },
  "language_info": {
   "codemirror_mode": {
    "name": "ipython",
    "version": 3
   },
   "file_extension": ".py",
   "mimetype": "text/x-python",
   "name": "python",
   "nbconvert_exporter": "python",
   "pygments_lexer": "ipython3",
   "version": "3.8.19"
  }
 },
 "nbformat": 4,
 "nbformat_minor": 4
}
